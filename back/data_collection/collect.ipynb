{
 "cells": [
  {
   "cell_type": "code",
   "execution_count": 1,
   "metadata": {},
   "outputs": [],
   "source": [
    "import fiftyone as fo\n",
    "import fiftyone.zoo as foz\n",
    "import fiftyone.utils.openimages as openimages"
   ]
  },
  {
   "cell_type": "code",
   "execution_count": 14,
   "metadata": {},
   "outputs": [
    {
     "name": "stdout",
     "output_type": "stream",
     "text": [
      "Downloading split 'test' to 'C:\\Users\\Aakhil\\fiftyone\\open-images-v7\\test' if necessary\n",
      "Only found 360 (<1000) samples matching your requirements\n",
      "Necessary images already downloaded\n",
      "Existing download of split 'test' is sufficient\n",
      "Loading 'open-images-v7' split 'test'\n",
      " 100% |█████████████████| 360/360 [742.5ms elapsed, 0s remaining, 484.8 samples/s]      \n",
      "Dataset 'open-images-v7-test-1000' created\n"
     ]
    }
   ],
   "source": [
    "test_dataset = foz.load_zoo_dataset(\n",
    "    \"open-images-v7\",\n",
    "    split=\"test\",\n",
    "    label_types=[\"detections\"],\n",
    "    classes = [\"Mobile phone\"],\n",
    "    max_samples=1000,\n",
    ")"
   ]
  },
  {
   "cell_type": "code",
   "execution_count": 15,
   "metadata": {},
   "outputs": [
    {
     "name": "stdout",
     "output_type": "stream",
     "text": [
      "   9% |█/---------------|  31/360 [105.2ms elapsed, 1.1s remaining, 294.7 samples/s] "
     ]
    },
    {
     "name": "stderr",
     "output_type": "stream",
     "text": [
      "c:\\Users\\Aakhil\\AppData\\Local\\Programs\\Python\\Python311\\Lib\\site-packages\\fiftyone\\utils\\yolo.py:993: UserWarning: Ignoring detection with label 'Tablet computer' not in provided classes\n",
      "  warnings.warn(msg)\n",
      "c:\\Users\\Aakhil\\AppData\\Local\\Programs\\Python\\Python311\\Lib\\site-packages\\fiftyone\\utils\\yolo.py:993: UserWarning: Ignoring detection with label 'Car' not in provided classes\n",
      "  warnings.warn(msg)\n",
      "c:\\Users\\Aakhil\\AppData\\Local\\Programs\\Python\\Python311\\Lib\\site-packages\\fiftyone\\utils\\yolo.py:993: UserWarning: Ignoring detection with label 'Auto part' not in provided classes\n",
      "  warnings.warn(msg)\n",
      "c:\\Users\\Aakhil\\AppData\\Local\\Programs\\Python\\Python311\\Lib\\site-packages\\fiftyone\\utils\\yolo.py:993: UserWarning: Ignoring detection with label 'Person' not in provided classes\n",
      "  warnings.warn(msg)\n",
      "c:\\Users\\Aakhil\\AppData\\Local\\Programs\\Python\\Python311\\Lib\\site-packages\\fiftyone\\utils\\yolo.py:993: UserWarning: Ignoring detection with label 'Human hand' not in provided classes\n",
      "  warnings.warn(msg)\n",
      "c:\\Users\\Aakhil\\AppData\\Local\\Programs\\Python\\Python311\\Lib\\site-packages\\fiftyone\\utils\\yolo.py:993: UserWarning: Ignoring detection with label 'Mammal' not in provided classes\n",
      "  warnings.warn(msg)\n",
      "c:\\Users\\Aakhil\\AppData\\Local\\Programs\\Python\\Python311\\Lib\\site-packages\\fiftyone\\utils\\yolo.py:993: UserWarning: Ignoring detection with label 'Human arm' not in provided classes\n",
      "  warnings.warn(msg)\n",
      "c:\\Users\\Aakhil\\AppData\\Local\\Programs\\Python\\Python311\\Lib\\site-packages\\fiftyone\\utils\\yolo.py:993: UserWarning: Ignoring detection with label 'Human body' not in provided classes\n",
      "  warnings.warn(msg)\n",
      "c:\\Users\\Aakhil\\AppData\\Local\\Programs\\Python\\Python311\\Lib\\site-packages\\fiftyone\\utils\\yolo.py:993: UserWarning: Ignoring detection with label 'Grape' not in provided classes\n",
      "  warnings.warn(msg)\n",
      "c:\\Users\\Aakhil\\AppData\\Local\\Programs\\Python\\Python311\\Lib\\site-packages\\fiftyone\\utils\\yolo.py:993: UserWarning: Ignoring detection with label 'Wine glass' not in provided classes\n",
      "  warnings.warn(msg)\n",
      "c:\\Users\\Aakhil\\AppData\\Local\\Programs\\Python\\Python311\\Lib\\site-packages\\fiftyone\\utils\\yolo.py:993: UserWarning: Ignoring detection with label 'Drink' not in provided classes\n",
      "  warnings.warn(msg)\n",
      "c:\\Users\\Aakhil\\AppData\\Local\\Programs\\Python\\Python311\\Lib\\site-packages\\fiftyone\\utils\\yolo.py:993: UserWarning: Ignoring detection with label 'Wine' not in provided classes\n",
      "  warnings.warn(msg)\n",
      "c:\\Users\\Aakhil\\AppData\\Local\\Programs\\Python\\Python311\\Lib\\site-packages\\fiftyone\\utils\\yolo.py:993: UserWarning: Ignoring detection with label 'Cake' not in provided classes\n",
      "  warnings.warn(msg)\n",
      "c:\\Users\\Aakhil\\AppData\\Local\\Programs\\Python\\Python311\\Lib\\site-packages\\fiftyone\\utils\\yolo.py:993: UserWarning: Ignoring detection with label 'Baked goods' not in provided classes\n",
      "  warnings.warn(msg)\n",
      "c:\\Users\\Aakhil\\AppData\\Local\\Programs\\Python\\Python311\\Lib\\site-packages\\fiftyone\\utils\\yolo.py:993: UserWarning: Ignoring detection with label 'Dairy Product' not in provided classes\n",
      "  warnings.warn(msg)\n",
      "c:\\Users\\Aakhil\\AppData\\Local\\Programs\\Python\\Python311\\Lib\\site-packages\\fiftyone\\utils\\yolo.py:993: UserWarning: Ignoring detection with label 'Ipod' not in provided classes\n",
      "  warnings.warn(msg)\n",
      "c:\\Users\\Aakhil\\AppData\\Local\\Programs\\Python\\Python311\\Lib\\site-packages\\fiftyone\\utils\\yolo.py:993: UserWarning: Ignoring detection with label 'Human hair' not in provided classes\n",
      "  warnings.warn(msg)\n",
      "c:\\Users\\Aakhil\\AppData\\Local\\Programs\\Python\\Python311\\Lib\\site-packages\\fiftyone\\utils\\yolo.py:993: UserWarning: Ignoring detection with label 'Human head' not in provided classes\n",
      "  warnings.warn(msg)\n",
      "c:\\Users\\Aakhil\\AppData\\Local\\Programs\\Python\\Python311\\Lib\\site-packages\\fiftyone\\utils\\yolo.py:993: UserWarning: Ignoring detection with label 'Human ear' not in provided classes\n",
      "  warnings.warn(msg)\n",
      "c:\\Users\\Aakhil\\AppData\\Local\\Programs\\Python\\Python311\\Lib\\site-packages\\fiftyone\\utils\\yolo.py:993: UserWarning: Ignoring detection with label 'Laptop' not in provided classes\n",
      "  warnings.warn(msg)\n",
      "c:\\Users\\Aakhil\\AppData\\Local\\Programs\\Python\\Python311\\Lib\\site-packages\\fiftyone\\utils\\yolo.py:993: UserWarning: Ignoring detection with label 'Office building' not in provided classes\n",
      "  warnings.warn(msg)\n",
      "c:\\Users\\Aakhil\\AppData\\Local\\Programs\\Python\\Python311\\Lib\\site-packages\\fiftyone\\utils\\yolo.py:993: UserWarning: Ignoring detection with label 'Man' not in provided classes\n",
      "  warnings.warn(msg)\n",
      "c:\\Users\\Aakhil\\AppData\\Local\\Programs\\Python\\Python311\\Lib\\site-packages\\fiftyone\\utils\\yolo.py:993: UserWarning: Ignoring detection with label 'Clothing' not in provided classes\n",
      "  warnings.warn(msg)\n",
      "c:\\Users\\Aakhil\\AppData\\Local\\Programs\\Python\\Python311\\Lib\\site-packages\\fiftyone\\utils\\yolo.py:993: UserWarning: Ignoring detection with label 'Headphones' not in provided classes\n",
      "  warnings.warn(msg)\n",
      "c:\\Users\\Aakhil\\AppData\\Local\\Programs\\Python\\Python311\\Lib\\site-packages\\fiftyone\\utils\\yolo.py:993: UserWarning: Ignoring detection with label 'Weapon' not in provided classes\n",
      "  warnings.warn(msg)\n",
      "c:\\Users\\Aakhil\\AppData\\Local\\Programs\\Python\\Python311\\Lib\\site-packages\\fiftyone\\utils\\yolo.py:993: UserWarning: Ignoring detection with label 'Toy' not in provided classes\n",
      "  warnings.warn(msg)\n",
      "c:\\Users\\Aakhil\\AppData\\Local\\Programs\\Python\\Python311\\Lib\\site-packages\\fiftyone\\utils\\yolo.py:993: UserWarning: Ignoring detection with label 'Clock' not in provided classes\n",
      "  warnings.warn(msg)\n",
      "c:\\Users\\Aakhil\\AppData\\Local\\Programs\\Python\\Python311\\Lib\\site-packages\\fiftyone\\utils\\yolo.py:993: UserWarning: Ignoring detection with label 'Cat' not in provided classes\n",
      "  warnings.warn(msg)\n",
      "c:\\Users\\Aakhil\\AppData\\Local\\Programs\\Python\\Python311\\Lib\\site-packages\\fiftyone\\utils\\yolo.py:993: UserWarning: Ignoring detection with label 'Telephone' not in provided classes\n",
      "  warnings.warn(msg)\n",
      "c:\\Users\\Aakhil\\AppData\\Local\\Programs\\Python\\Python311\\Lib\\site-packages\\fiftyone\\utils\\yolo.py:993: UserWarning: Ignoring detection with label 'Computer keyboard' not in provided classes\n",
      "  warnings.warn(msg)\n",
      "c:\\Users\\Aakhil\\AppData\\Local\\Programs\\Python\\Python311\\Lib\\site-packages\\fiftyone\\utils\\yolo.py:993: UserWarning: Ignoring detection with label 'Human face' not in provided classes\n",
      "  warnings.warn(msg)\n",
      "c:\\Users\\Aakhil\\AppData\\Local\\Programs\\Python\\Python311\\Lib\\site-packages\\fiftyone\\utils\\yolo.py:993: UserWarning: Ignoring detection with label 'Human nose' not in provided classes\n",
      "  warnings.warn(msg)\n",
      "c:\\Users\\Aakhil\\AppData\\Local\\Programs\\Python\\Python311\\Lib\\site-packages\\fiftyone\\utils\\yolo.py:993: UserWarning: Ignoring detection with label 'Human eye' not in provided classes\n",
      "  warnings.warn(msg)\n",
      "c:\\Users\\Aakhil\\AppData\\Local\\Programs\\Python\\Python311\\Lib\\site-packages\\fiftyone\\utils\\yolo.py:993: UserWarning: Ignoring detection with label 'Human mouth' not in provided classes\n",
      "  warnings.warn(msg)\n",
      "c:\\Users\\Aakhil\\AppData\\Local\\Programs\\Python\\Python311\\Lib\\site-packages\\fiftyone\\utils\\yolo.py:993: UserWarning: Ignoring detection with label 'Boy' not in provided classes\n",
      "  warnings.warn(msg)\n",
      "c:\\Users\\Aakhil\\AppData\\Local\\Programs\\Python\\Python311\\Lib\\site-packages\\fiftyone\\utils\\yolo.py:993: UserWarning: Ignoring detection with label 'Human beard' not in provided classes\n",
      "  warnings.warn(msg)\n"
     ]
    },
    {
     "name": "stdout",
     "output_type": "stream",
     "text": [
      "  39% |██████|----------| 142/360 [410.1ms elapsed, 629.5ms remaining, 346.3 samples/s] "
     ]
    },
    {
     "name": "stderr",
     "output_type": "stream",
     "text": [
      "c:\\Users\\Aakhil\\AppData\\Local\\Programs\\Python\\Python311\\Lib\\site-packages\\fiftyone\\utils\\yolo.py:993: UserWarning: Ignoring detection with label 'Bottle' not in provided classes\n",
      "  warnings.warn(msg)\n",
      "c:\\Users\\Aakhil\\AppData\\Local\\Programs\\Python\\Python311\\Lib\\site-packages\\fiftyone\\utils\\yolo.py:993: UserWarning: Ignoring detection with label 'Beer' not in provided classes\n",
      "  warnings.warn(msg)\n",
      "c:\\Users\\Aakhil\\AppData\\Local\\Programs\\Python\\Python311\\Lib\\site-packages\\fiftyone\\utils\\yolo.py:993: UserWarning: Ignoring detection with label 'Rose' not in provided classes\n",
      "  warnings.warn(msg)\n",
      "c:\\Users\\Aakhil\\AppData\\Local\\Programs\\Python\\Python311\\Lib\\site-packages\\fiftyone\\utils\\yolo.py:993: UserWarning: Ignoring detection with label 'Boot' not in provided classes\n",
      "  warnings.warn(msg)\n",
      "c:\\Users\\Aakhil\\AppData\\Local\\Programs\\Python\\Python311\\Lib\\site-packages\\fiftyone\\utils\\yolo.py:993: UserWarning: Ignoring detection with label 'Fruit' not in provided classes\n",
      "  warnings.warn(msg)\n",
      "c:\\Users\\Aakhil\\AppData\\Local\\Programs\\Python\\Python311\\Lib\\site-packages\\fiftyone\\utils\\yolo.py:993: UserWarning: Ignoring detection with label 'Window' not in provided classes\n",
      "  warnings.warn(msg)\n",
      "c:\\Users\\Aakhil\\AppData\\Local\\Programs\\Python\\Python311\\Lib\\site-packages\\fiftyone\\utils\\yolo.py:993: UserWarning: Ignoring detection with label 'Human leg' not in provided classes\n",
      "  warnings.warn(msg)\n",
      "c:\\Users\\Aakhil\\AppData\\Local\\Programs\\Python\\Python311\\Lib\\site-packages\\fiftyone\\utils\\yolo.py:993: UserWarning: Ignoring detection with label 'Computer monitor' not in provided classes\n",
      "  warnings.warn(msg)\n"
     ]
    },
    {
     "name": "stdout",
     "output_type": "stream",
     "text": [
      "  59% |█████████--------| 211/360 [611.8ms elapsed, 432.0ms remaining, 344.9 samples/s] "
     ]
    },
    {
     "name": "stderr",
     "output_type": "stream",
     "text": [
      "c:\\Users\\Aakhil\\AppData\\Local\\Programs\\Python\\Python311\\Lib\\site-packages\\fiftyone\\utils\\yolo.py:993: UserWarning: Ignoring detection with label 'Glasses' not in provided classes\n",
      "  warnings.warn(msg)\n",
      "c:\\Users\\Aakhil\\AppData\\Local\\Programs\\Python\\Python311\\Lib\\site-packages\\fiftyone\\utils\\yolo.py:993: UserWarning: Ignoring detection with label 'Microphone' not in provided classes\n",
      "  warnings.warn(msg)\n",
      "c:\\Users\\Aakhil\\AppData\\Local\\Programs\\Python\\Python311\\Lib\\site-packages\\fiftyone\\utils\\yolo.py:993: UserWarning: Ignoring detection with label 'Flower' not in provided classes\n",
      "  warnings.warn(msg)\n",
      "c:\\Users\\Aakhil\\AppData\\Local\\Programs\\Python\\Python311\\Lib\\site-packages\\fiftyone\\utils\\yolo.py:993: UserWarning: Ignoring detection with label 'Aircraft' not in provided classes\n",
      "  warnings.warn(msg)\n",
      "c:\\Users\\Aakhil\\AppData\\Local\\Programs\\Python\\Python311\\Lib\\site-packages\\fiftyone\\utils\\yolo.py:993: UserWarning: Ignoring detection with label 'Building' not in provided classes\n",
      "  warnings.warn(msg)\n",
      "c:\\Users\\Aakhil\\AppData\\Local\\Programs\\Python\\Python311\\Lib\\site-packages\\fiftyone\\utils\\yolo.py:993: UserWarning: Ignoring detection with label 'Cheese' not in provided classes\n",
      "  warnings.warn(msg)\n",
      "c:\\Users\\Aakhil\\AppData\\Local\\Programs\\Python\\Python311\\Lib\\site-packages\\fiftyone\\utils\\yolo.py:993: UserWarning: Ignoring detection with label 'Tableware' not in provided classes\n",
      "  warnings.warn(msg)\n",
      "c:\\Users\\Aakhil\\AppData\\Local\\Programs\\Python\\Python311\\Lib\\site-packages\\fiftyone\\utils\\yolo.py:993: UserWarning: Ignoring detection with label 'Fast food' not in provided classes\n",
      "  warnings.warn(msg)\n",
      "c:\\Users\\Aakhil\\AppData\\Local\\Programs\\Python\\Python311\\Lib\\site-packages\\fiftyone\\utils\\yolo.py:993: UserWarning: Ignoring detection with label 'Pizza' not in provided classes\n",
      "  warnings.warn(msg)\n",
      "c:\\Users\\Aakhil\\AppData\\Local\\Programs\\Python\\Python311\\Lib\\site-packages\\fiftyone\\utils\\yolo.py:993: UserWarning: Ignoring detection with label 'Land vehicle' not in provided classes\n",
      "  warnings.warn(msg)\n",
      "c:\\Users\\Aakhil\\AppData\\Local\\Programs\\Python\\Python311\\Lib\\site-packages\\fiftyone\\utils\\yolo.py:993: UserWarning: Ignoring detection with label 'Fashion accessory' not in provided classes\n",
      "  warnings.warn(msg)\n",
      "c:\\Users\\Aakhil\\AppData\\Local\\Programs\\Python\\Python311\\Lib\\site-packages\\fiftyone\\utils\\yolo.py:993: UserWarning: Ignoring detection with label 'Girl' not in provided classes\n",
      "  warnings.warn(msg)\n",
      "c:\\Users\\Aakhil\\AppData\\Local\\Programs\\Python\\Python311\\Lib\\site-packages\\fiftyone\\utils\\yolo.py:993: UserWarning: Ignoring detection with label 'Woman' not in provided classes\n",
      "  warnings.warn(msg)\n",
      "c:\\Users\\Aakhil\\AppData\\Local\\Programs\\Python\\Python311\\Lib\\site-packages\\fiftyone\\utils\\yolo.py:993: UserWarning: Ignoring detection with label 'Food' not in provided classes\n",
      "  warnings.warn(msg)\n",
      "c:\\Users\\Aakhil\\AppData\\Local\\Programs\\Python\\Python311\\Lib\\site-packages\\fiftyone\\utils\\yolo.py:993: UserWarning: Ignoring detection with label 'French fries' not in provided classes\n",
      "  warnings.warn(msg)\n",
      "c:\\Users\\Aakhil\\AppData\\Local\\Programs\\Python\\Python311\\Lib\\site-packages\\fiftyone\\utils\\yolo.py:993: UserWarning: Ignoring detection with label 'Tie' not in provided classes\n",
      "  warnings.warn(msg)\n",
      "c:\\Users\\Aakhil\\AppData\\Local\\Programs\\Python\\Python311\\Lib\\site-packages\\fiftyone\\utils\\yolo.py:993: UserWarning: Ignoring detection with label 'Suit' not in provided classes\n",
      "  warnings.warn(msg)\n",
      "c:\\Users\\Aakhil\\AppData\\Local\\Programs\\Python\\Python311\\Lib\\site-packages\\fiftyone\\utils\\yolo.py:993: UserWarning: Ignoring detection with label 'Shirt' not in provided classes\n",
      "  warnings.warn(msg)\n",
      "c:\\Users\\Aakhil\\AppData\\Local\\Programs\\Python\\Python311\\Lib\\site-packages\\fiftyone\\utils\\yolo.py:993: UserWarning: Ignoring detection with label 'Sun hat' not in provided classes\n",
      "  warnings.warn(msg)\n",
      "c:\\Users\\Aakhil\\AppData\\Local\\Programs\\Python\\Python311\\Lib\\site-packages\\fiftyone\\utils\\yolo.py:993: UserWarning: Ignoring detection with label 'Fedora' not in provided classes\n",
      "  warnings.warn(msg)\n"
     ]
    },
    {
     "name": "stdout",
     "output_type": "stream",
     "text": [
      "  78% |█████████████|---| 282/360 [815.8ms elapsed, 225.6ms remaining, 345.7 samples/s] "
     ]
    },
    {
     "name": "stderr",
     "output_type": "stream",
     "text": [
      "c:\\Users\\Aakhil\\AppData\\Local\\Programs\\Python\\Python311\\Lib\\site-packages\\fiftyone\\utils\\yolo.py:993: UserWarning: Ignoring detection with label 'Lamp' not in provided classes\n",
      "  warnings.warn(msg)\n",
      "c:\\Users\\Aakhil\\AppData\\Local\\Programs\\Python\\Python311\\Lib\\site-packages\\fiftyone\\utils\\yolo.py:993: UserWarning: Ignoring detection with label 'Camera' not in provided classes\n",
      "  warnings.warn(msg)\n",
      "c:\\Users\\Aakhil\\AppData\\Local\\Programs\\Python\\Python311\\Lib\\site-packages\\fiftyone\\utils\\yolo.py:993: UserWarning: Ignoring detection with label 'Box' not in provided classes\n",
      "  warnings.warn(msg)\n",
      "c:\\Users\\Aakhil\\AppData\\Local\\Programs\\Python\\Python311\\Lib\\site-packages\\fiftyone\\utils\\yolo.py:993: UserWarning: Ignoring detection with label 'Tree' not in provided classes\n",
      "  warnings.warn(msg)\n",
      "c:\\Users\\Aakhil\\AppData\\Local\\Programs\\Python\\Python311\\Lib\\site-packages\\fiftyone\\utils\\yolo.py:993: UserWarning: Ignoring detection with label 'Office supplies' not in provided classes\n",
      "  warnings.warn(msg)\n",
      "c:\\Users\\Aakhil\\AppData\\Local\\Programs\\Python\\Python311\\Lib\\site-packages\\fiftyone\\utils\\yolo.py:993: UserWarning: Ignoring detection with label 'Dress' not in provided classes\n",
      "  warnings.warn(msg)\n",
      "c:\\Users\\Aakhil\\AppData\\Local\\Programs\\Python\\Python311\\Lib\\site-packages\\fiftyone\\utils\\yolo.py:993: UserWarning: Ignoring detection with label 'Wheel' not in provided classes\n",
      "  warnings.warn(msg)\n",
      "c:\\Users\\Aakhil\\AppData\\Local\\Programs\\Python\\Python311\\Lib\\site-packages\\fiftyone\\utils\\yolo.py:993: UserWarning: Ignoring detection with label 'Toilet paper' not in provided classes\n",
      "  warnings.warn(msg)\n",
      "c:\\Users\\Aakhil\\AppData\\Local\\Programs\\Python\\Python311\\Lib\\site-packages\\fiftyone\\utils\\yolo.py:993: UserWarning: Ignoring detection with label 'Table' not in provided classes\n",
      "  warnings.warn(msg)\n",
      "c:\\Users\\Aakhil\\AppData\\Local\\Programs\\Python\\Python311\\Lib\\site-packages\\fiftyone\\utils\\yolo.py:993: UserWarning: Ignoring detection with label 'Snack' not in provided classes\n",
      "  warnings.warn(msg)\n",
      "c:\\Users\\Aakhil\\AppData\\Local\\Programs\\Python\\Python311\\Lib\\site-packages\\fiftyone\\utils\\yolo.py:993: UserWarning: Ignoring detection with label 'Dessert' not in provided classes\n",
      "  warnings.warn(msg)\n",
      "c:\\Users\\Aakhil\\AppData\\Local\\Programs\\Python\\Python311\\Lib\\site-packages\\fiftyone\\utils\\yolo.py:993: UserWarning: Ignoring detection with label 'Digital clock' not in provided classes\n",
      "  warnings.warn(msg)\n",
      "c:\\Users\\Aakhil\\AppData\\Local\\Programs\\Python\\Python311\\Lib\\site-packages\\fiftyone\\utils\\yolo.py:993: UserWarning: Ignoring detection with label 'Alarm clock' not in provided classes\n",
      "  warnings.warn(msg)\n"
     ]
    },
    {
     "name": "stdout",
     "output_type": "stream",
     "text": [
      " 100% |█████████████████| 360/360 [1.0s elapsed, 0s remaining, 355.6 samples/s]         \n"
     ]
    },
    {
     "name": "stderr",
     "output_type": "stream",
     "text": [
      "c:\\Users\\Aakhil\\AppData\\Local\\Programs\\Python\\Python311\\Lib\\site-packages\\fiftyone\\utils\\yolo.py:993: UserWarning: Ignoring detection with label 'Football' not in provided classes\n",
      "  warnings.warn(msg)\n",
      "c:\\Users\\Aakhil\\AppData\\Local\\Programs\\Python\\Python311\\Lib\\site-packages\\fiftyone\\utils\\yolo.py:993: UserWarning: Ignoring detection with label 'Cocktail' not in provided classes\n",
      "  warnings.warn(msg)\n"
     ]
    }
   ],
   "source": [
    "test_dataset.export(\n",
    "   export_dir=\"../data/test\",\n",
    "   dataset_type = fo.types.YOLOv5Dataset,\n",
    "   classes=[\"Mobile phone\"]\n",
    ")"
   ]
  },
  {
   "cell_type": "code",
   "execution_count": 8,
   "metadata": {},
   "outputs": [
    {
     "name": "stdout",
     "output_type": "stream",
     "text": [
      "Downloading 'https://storage.googleapis.com/openimages/v6/oidv6-attributes-description.csv' to 'C:\\Users\\Aakhil\\AppData\\Local\\Temp\\tmpoiaismy5\\metadata\\attributes.csv'\n"
     ]
    },
    {
     "name": "stdout",
     "output_type": "stream",
     "text": [
      "yea budday\n"
     ]
    }
   ],
   "source": [
    "classes = openimages.get_classes()\n",
    "attributes = openimages.get_attributes()\n",
    "if \"Mobile phone\" in classes:\n",
    "    print(\"yea budday\")\n",
    "else:\n",
    "    print(\"npe\")"
   ]
  },
  {
   "cell_type": "code",
   "execution_count": null,
   "metadata": {},
   "outputs": [],
   "source": []
  },
  {
   "cell_type": "code",
   "execution_count": null,
   "metadata": {},
   "outputs": [],
   "source": []
  }
 ],
 "metadata": {
  "kernelspec": {
   "display_name": "Python 3",
   "language": "python",
   "name": "python3"
  },
  "language_info": {
   "codemirror_mode": {
    "name": "ipython",
    "version": 3
   },
   "file_extension": ".py",
   "mimetype": "text/x-python",
   "name": "python",
   "nbconvert_exporter": "python",
   "pygments_lexer": "ipython3",
   "version": "3.11.2"
  },
  "orig_nbformat": 4
 },
 "nbformat": 4,
 "nbformat_minor": 2
}
